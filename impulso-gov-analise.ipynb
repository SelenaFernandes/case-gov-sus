{
 "cells": [
  {
   "cell_type": "markdown",
   "id": "c27138c5",
   "metadata": {},
   "source": [
    "### Exploração de Dados em Dados de Monitoramento do Comportamento dos Usuários do Produto"
   ]
  },
  {
   "cell_type": "markdown",
   "id": "3eeb29f9",
   "metadata": {},
   "source": [
    "Para medir o impacto de nossas soluções consideramos essencial\n",
    "acompanhar o sucesso das ferramentas que disponibilizamos para nossos\n",
    "usuários (gestores do SUS e profissionais da saúde).\n",
    "\n",
    "Nesse estudo de caso pediremos para você realizar uma análise\n",
    "exploratória para identificar padrões de uso e tirar conclusões sobre o\n",
    "engajamento das ferramentas e atividade dos usuários que acessam a área\n",
    "logada do Impulso Previne.\n",
    "\n",
    "O exploração deve ser focada para tirar apenas conclusões sobre os 3\n",
    "pontos abaixo:"
   ]
  },
  {
   "cell_type": "markdown",
   "id": "10e85531",
   "metadata": {},
   "source": [
    "* 1. Taxas de primeiro acesso na área logada"
   ]
  },
  {
   "cell_type": "code",
   "execution_count": 19,
   "id": "7ce8a887",
   "metadata": {},
   "outputs": [],
   "source": [
    "import pandas as pd\n",
    "import matplotlib.pyplot as plt"
   ]
  },
  {
   "cell_type": "code",
   "execution_count": 20,
   "id": "bae63a36",
   "metadata": {},
   "outputs": [],
   "source": [
    "usuarios = pd.read_csv('usuarios_cadastrados_ip.csv')\n",
    "eventos = pd.read_csv('registro_de_eventos_ip.csv')"
   ]
  },
  {
   "cell_type": "code",
   "execution_count": 21,
   "id": "ba85d397",
   "metadata": {},
   "outputs": [],
   "source": [
    "usuarios['criacao_data'] = pd.to_datetime(usuarios['criacao_data'])"
   ]
  },
  {
   "cell_type": "code",
   "execution_count": 22,
   "id": "92ff82da",
   "metadata": {},
   "outputs": [
    {
     "name": "stdout",
     "output_type": "stream",
     "text": [
      "Tipo de dado da coluna 'data': int64\n"
     ]
    }
   ],
   "source": [
    "tipo_coluna_data = eventos['periodo_data_hora'].dtype\n",
    "print(\"Tipo de dado da coluna 'data':\", tipo_coluna_data)"
   ]
  },
  {
   "cell_type": "code",
   "execution_count": 23,
   "id": "0aaa6bea",
   "metadata": {},
   "outputs": [],
   "source": [
    "eventos['periodo_data_hora'] = pd.to_datetime(eventos['periodo_data_hora'], format='%Y%m%d%H')"
   ]
  },
  {
   "cell_type": "code",
   "execution_count": 17,
   "id": "0f8de6c4",
   "metadata": {},
   "outputs": [
    {
     "data": {
      "text/html": [
       "<div>\n",
       "<style scoped>\n",
       "    .dataframe tbody tr th:only-of-type {\n",
       "        vertical-align: middle;\n",
       "    }\n",
       "\n",
       "    .dataframe tbody tr th {\n",
       "        vertical-align: top;\n",
       "    }\n",
       "\n",
       "    .dataframe thead th {\n",
       "        text-align: right;\n",
       "    }\n",
       "</style>\n",
       "<table border=\"1\" class=\"dataframe\">\n",
       "  <thead>\n",
       "    <tr style=\"text-align: right;\">\n",
       "      <th></th>\n",
       "      <th>sessao_id</th>\n",
       "      <th>periodo_data_hora</th>\n",
       "      <th>usuario_id</th>\n",
       "      <th>pagina_url</th>\n",
       "      <th>eventos</th>\n",
       "      <th>sessao_duracao</th>\n",
       "    </tr>\n",
       "  </thead>\n",
       "  <tbody>\n",
       "    <tr>\n",
       "      <th>0</th>\n",
       "      <td>23098510-87ea-49af-8514-d2a7b0eac241</td>\n",
       "      <td>2023-07-31 23:00:00</td>\n",
       "      <td>3c709728-4613-40aa-ad5a-9baf5f5b2eb2</td>\n",
       "      <td>/inicio</td>\n",
       "      <td>2</td>\n",
       "      <td>0.0</td>\n",
       "    </tr>\n",
       "    <tr>\n",
       "      <th>1</th>\n",
       "      <td>08410890-9a51-4aa5-bc7c-2f1b97444695</td>\n",
       "      <td>2023-07-31 23:00:00</td>\n",
       "      <td>3c709728-4613-40aa-ad5a-9baf5f5b2eb2</td>\n",
       "      <td>/inicio</td>\n",
       "      <td>2</td>\n",
       "      <td>11.0</td>\n",
       "    </tr>\n",
       "    <tr>\n",
       "      <th>2</th>\n",
       "      <td>cf1f319e-c570-4126-8fed-887689e92f9b</td>\n",
       "      <td>2023-07-31 23:00:00</td>\n",
       "      <td>3c709728-4613-40aa-ad5a-9baf5f5b2eb2</td>\n",
       "      <td>/lista_nominal_hipertensos</td>\n",
       "      <td>18</td>\n",
       "      <td>754.0</td>\n",
       "    </tr>\n",
       "    <tr>\n",
       "      <th>3</th>\n",
       "      <td>f114572a-9d01-42f7-81bb-0ddbb025e2bc</td>\n",
       "      <td>2023-07-31 23:00:00</td>\n",
       "      <td>3c709728-4613-40aa-ad5a-9baf5f5b2eb2</td>\n",
       "      <td>/lista_nominal_diabeticos</td>\n",
       "      <td>2</td>\n",
       "      <td>0.0</td>\n",
       "    </tr>\n",
       "    <tr>\n",
       "      <th>4</th>\n",
       "      <td>16df6222-89d5-4887-b82e-1b4938e47b51</td>\n",
       "      <td>2023-07-31 23:00:00</td>\n",
       "      <td>3c709728-4613-40aa-ad5a-9baf5f5b2eb2</td>\n",
       "      <td>/lista_nominal_diabeticos</td>\n",
       "      <td>6</td>\n",
       "      <td>121.0</td>\n",
       "    </tr>\n",
       "  </tbody>\n",
       "</table>\n",
       "</div>"
      ],
      "text/plain": [
       "                              sessao_id   periodo_data_hora  \\\n",
       "0  23098510-87ea-49af-8514-d2a7b0eac241 2023-07-31 23:00:00   \n",
       "1  08410890-9a51-4aa5-bc7c-2f1b97444695 2023-07-31 23:00:00   \n",
       "2  cf1f319e-c570-4126-8fed-887689e92f9b 2023-07-31 23:00:00   \n",
       "3  f114572a-9d01-42f7-81bb-0ddbb025e2bc 2023-07-31 23:00:00   \n",
       "4  16df6222-89d5-4887-b82e-1b4938e47b51 2023-07-31 23:00:00   \n",
       "\n",
       "                             usuario_id                  pagina_url  eventos  \\\n",
       "0  3c709728-4613-40aa-ad5a-9baf5f5b2eb2                     /inicio        2   \n",
       "1  3c709728-4613-40aa-ad5a-9baf5f5b2eb2                     /inicio        2   \n",
       "2  3c709728-4613-40aa-ad5a-9baf5f5b2eb2  /lista_nominal_hipertensos       18   \n",
       "3  3c709728-4613-40aa-ad5a-9baf5f5b2eb2   /lista_nominal_diabeticos        2   \n",
       "4  3c709728-4613-40aa-ad5a-9baf5f5b2eb2   /lista_nominal_diabeticos        6   \n",
       "\n",
       "   sessao_duracao  \n",
       "0             0.0  \n",
       "1            11.0  \n",
       "2           754.0  \n",
       "3             0.0  \n",
       "4           121.0  "
      ]
     },
     "execution_count": 17,
     "metadata": {},
     "output_type": "execute_result"
    }
   ],
   "source": [
    "eventos.head()"
   ]
  },
  {
   "cell_type": "code",
   "execution_count": 8,
   "id": "c8eb7c66",
   "metadata": {},
   "outputs": [],
   "source": [
    "primeiros_acessos = eventos.groupby('usuario_id')['periodo_data_hora'].min()"
   ]
  },
  {
   "cell_type": "code",
   "execution_count": 9,
   "id": "734cdcef",
   "metadata": {},
   "outputs": [],
   "source": [
    "acessos_por_mes = primeiros_acessos.groupby(primeiros_acessos.dt.to_period(\"M\")).count()"
   ]
  },
  {
   "cell_type": "code",
   "execution_count": 24,
   "id": "5823a2a1",
   "metadata": {},
   "outputs": [
    {
     "data": {
      "image/png": "[encoded data removed]",
      "text/plain": [
       "<Figure size 640x480 with 1 Axes>"
      ]
     },
     "metadata": {},
     "output_type": "display_data"
    }
   ],
   "source": [
    "acessos_por_mes.plot(kind='bar')\n",
    "plt.title('Taxas de Primeiro Acesso por Mês')\n",
    "plt.xlabel('Mês')\n",
    "plt.ylabel('Número de Primeiros Acessos')\n",
    "plt.show()"
   ]
  },
  {
   "cell_type": "markdown",
   "id": "e7ca49bf",
   "metadata": {},
   "source": [
    "* 2. Comparação da atividade entre usuários antigos e novos"
   ]
  },
  {
   "cell_type": "code",
   "execution_count": 25,
   "id": "7bdd0d82",
   "metadata": {},
   "outputs": [
    {
     "ename": "TypeError",
     "evalue": "'>' not supported between instances of 'Timestamp' and 'str'",
     "output_type": "error",
     "traceback": [
      "\u001b[1;31m---------------------------------------------------------------------------\u001b[0m",
      "\u001b[1;31mTypeError\u001b[0m                                 Traceback (most recent call last)",
      "\u001b[1;32mc:\\Users\\selen\\OneDrive\\Área de Trabalho\\case-impulso-gov\\impulso-gov-analise.ipynb Cell 14\u001b[0m line \u001b[0;36m1\n\u001b[1;32m----> <a href='vscode-notebook-cell:/c%3A/Users/selen/OneDrive/%C3%81rea%20de%20Trabalho/case-impulso-gov/impulso-gov-analise.ipynb#X32sZmlsZQ%3D%3D?line=0'>1</a>\u001b[0m usuarios[\u001b[39m'\u001b[39m\u001b[39mtipo_usuario\u001b[39m\u001b[39m'\u001b[39m] \u001b[39m=\u001b[39m usuarios[\u001b[39m'\u001b[39;49m\u001b[39mcriacao_data\u001b[39;49m\u001b[39m'\u001b[39;49m]\u001b[39m.\u001b[39;49mapply(\u001b[39mlambda\u001b[39;49;00m x: \u001b[39m'\u001b[39;49m\u001b[39mnovo\u001b[39;49m\u001b[39m'\u001b[39;49m \u001b[39mif\u001b[39;49;00m x \u001b[39m>\u001b[39;49m \u001b[39m'\u001b[39;49m\u001b[39m2023-01-01\u001b[39;49m\u001b[39m'\u001b[39;49m \u001b[39melse\u001b[39;49;00m \u001b[39m'\u001b[39;49m\u001b[39mantigo\u001b[39;49m\u001b[39m'\u001b[39;49m)\n\u001b[0;32m      <a href='vscode-notebook-cell:/c%3A/Users/selen/OneDrive/%C3%81rea%20de%20Trabalho/case-impulso-gov/impulso-gov-analise.ipynb#X32sZmlsZQ%3D%3D?line=3'>4</a>\u001b[0m \u001b[39m# Como não foi explicíto de forma clara oque se classificaria como um usuário antigo ou um novo usuário, foi definido a data de 01-01-2023 como marco para definição de usuários novos e antigos\u001b[39;00m\n",
      "File \u001b[1;32m~\\AppData\\Local\\Packages\\PythonSoftwareFoundation.Python.3.11_qbz5n2kfra8p0\\LocalCache\\local-packages\\Python311\\site-packages\\pandas\\core\\series.py:4760\u001b[0m, in \u001b[0;36mSeries.apply\u001b[1;34m(self, func, convert_dtype, args, by_row, **kwargs)\u001b[0m\n\u001b[0;32m   4625\u001b[0m \u001b[39mdef\u001b[39;00m \u001b[39mapply\u001b[39m(\n\u001b[0;32m   4626\u001b[0m     \u001b[39mself\u001b[39m,\n\u001b[0;32m   4627\u001b[0m     func: AggFuncType,\n\u001b[1;32m   (...)\u001b[0m\n\u001b[0;32m   4632\u001b[0m     \u001b[39m*\u001b[39m\u001b[39m*\u001b[39mkwargs,\n\u001b[0;32m   4633\u001b[0m ) \u001b[39m-\u001b[39m\u001b[39m>\u001b[39m DataFrame \u001b[39m|\u001b[39m Series:\n\u001b[0;32m   4634\u001b[0m \u001b[39m    \u001b[39m\u001b[39m\"\"\"\u001b[39;00m\n\u001b[0;32m   4635\u001b[0m \u001b[39m    Invoke function on values of Series.\u001b[39;00m\n\u001b[0;32m   4636\u001b[0m \n\u001b[1;32m   (...)\u001b[0m\n\u001b[0;32m   4751\u001b[0m \u001b[39m    dtype: float64\u001b[39;00m\n\u001b[0;32m   4752\u001b[0m \u001b[39m    \"\"\"\u001b[39;00m\n\u001b[0;32m   4753\u001b[0m     \u001b[39mreturn\u001b[39;00m SeriesApply(\n\u001b[0;32m   4754\u001b[0m         \u001b[39mself\u001b[39;49m,\n\u001b[0;32m   4755\u001b[0m         func,\n\u001b[0;32m   4756\u001b[0m         convert_dtype\u001b[39m=\u001b[39;49mconvert_dtype,\n\u001b[0;32m   4757\u001b[0m         by_row\u001b[39m=\u001b[39;49mby_row,\n\u001b[0;32m   4758\u001b[0m         args\u001b[39m=\u001b[39;49margs,\n\u001b[0;32m   4759\u001b[0m         kwargs\u001b[39m=\u001b[39;49mkwargs,\n\u001b[1;32m-> 4760\u001b[0m     )\u001b[39m.\u001b[39;49mapply()\n",
      "File \u001b[1;32m~\\AppData\\Local\\Packages\\PythonSoftwareFoundation.Python.3.11_qbz5n2kfra8p0\\LocalCache\\local-packages\\Python311\\site-packages\\pandas\\core\\apply.py:1207\u001b[0m, in \u001b[0;36mSeriesApply.apply\u001b[1;34m(self)\u001b[0m\n\u001b[0;32m   1204\u001b[0m     \u001b[39mreturn\u001b[39;00m \u001b[39mself\u001b[39m\u001b[39m.\u001b[39mapply_compat()\n\u001b[0;32m   1206\u001b[0m \u001b[39m# self.func is Callable\u001b[39;00m\n\u001b[1;32m-> 1207\u001b[0m \u001b[39mreturn\u001b[39;00m \u001b[39mself\u001b[39;49m\u001b[39m.\u001b[39;49mapply_standard()\n",
      "File \u001b[1;32m~\\AppData\\Local\\Packages\\PythonSoftwareFoundation.Python.3.11_qbz5n2kfra8p0\\LocalCache\\local-packages\\Python311\\site-packages\\pandas\\core\\apply.py:1287\u001b[0m, in \u001b[0;36mSeriesApply.apply_standard\u001b[1;34m(self)\u001b[0m\n\u001b[0;32m   1281\u001b[0m \u001b[39m# row-wise access\u001b[39;00m\n\u001b[0;32m   1282\u001b[0m \u001b[39m# apply doesn't have a `na_action` keyword and for backward compat reasons\u001b[39;00m\n\u001b[0;32m   1283\u001b[0m \u001b[39m# we need to give `na_action=\"ignore\"` for categorical data.\u001b[39;00m\n\u001b[0;32m   1284\u001b[0m \u001b[39m# TODO: remove the `na_action=\"ignore\"` when that default has been changed in\u001b[39;00m\n\u001b[0;32m   1285\u001b[0m \u001b[39m#  Categorical (GH51645).\u001b[39;00m\n\u001b[0;32m   1286\u001b[0m action \u001b[39m=\u001b[39m \u001b[39m\"\u001b[39m\u001b[39mignore\u001b[39m\u001b[39m\"\u001b[39m \u001b[39mif\u001b[39;00m \u001b[39misinstance\u001b[39m(obj\u001b[39m.\u001b[39mdtype, CategoricalDtype) \u001b[39melse\u001b[39;00m \u001b[39mNone\u001b[39;00m\n\u001b[1;32m-> 1287\u001b[0m mapped \u001b[39m=\u001b[39m obj\u001b[39m.\u001b[39;49m_map_values(\n\u001b[0;32m   1288\u001b[0m     mapper\u001b[39m=\u001b[39;49mcurried, na_action\u001b[39m=\u001b[39;49maction, convert\u001b[39m=\u001b[39;49m\u001b[39mself\u001b[39;49m\u001b[39m.\u001b[39;49mconvert_dtype\n\u001b[0;32m   1289\u001b[0m )\n\u001b[0;32m   1291\u001b[0m \u001b[39mif\u001b[39;00m \u001b[39mlen\u001b[39m(mapped) \u001b[39mand\u001b[39;00m \u001b[39misinstance\u001b[39m(mapped[\u001b[39m0\u001b[39m], ABCSeries):\n\u001b[0;32m   1292\u001b[0m     \u001b[39m# GH#43986 Need to do list(mapped) in order to get treated as nested\u001b[39;00m\n\u001b[0;32m   1293\u001b[0m     \u001b[39m#  See also GH#25959 regarding EA support\u001b[39;00m\n\u001b[0;32m   1294\u001b[0m     \u001b[39mreturn\u001b[39;00m obj\u001b[39m.\u001b[39m_constructor_expanddim(\u001b[39mlist\u001b[39m(mapped), index\u001b[39m=\u001b[39mobj\u001b[39m.\u001b[39mindex)\n",
      "File \u001b[1;32m~\\AppData\\Local\\Packages\\PythonSoftwareFoundation.Python.3.11_qbz5n2kfra8p0\\LocalCache\\local-packages\\Python311\\site-packages\\pandas\\core\\base.py:919\u001b[0m, in \u001b[0;36mIndexOpsMixin._map_values\u001b[1;34m(self, mapper, na_action, convert)\u001b[0m\n\u001b[0;32m    916\u001b[0m arr \u001b[39m=\u001b[39m \u001b[39mself\u001b[39m\u001b[39m.\u001b[39m_values\n\u001b[0;32m    918\u001b[0m \u001b[39mif\u001b[39;00m \u001b[39misinstance\u001b[39m(arr, ExtensionArray):\n\u001b[1;32m--> 919\u001b[0m     \u001b[39mreturn\u001b[39;00m arr\u001b[39m.\u001b[39;49mmap(mapper, na_action\u001b[39m=\u001b[39;49mna_action)\n\u001b[0;32m    921\u001b[0m \u001b[39mreturn\u001b[39;00m algorithms\u001b[39m.\u001b[39mmap_array(arr, mapper, na_action\u001b[39m=\u001b[39mna_action, convert\u001b[39m=\u001b[39mconvert)\n",
      "File \u001b[1;32m~\\AppData\\Local\\Packages\\PythonSoftwareFoundation.Python.3.11_qbz5n2kfra8p0\\LocalCache\\local-packages\\Python311\\site-packages\\pandas\\core\\arrays\\_mixins.py:80\u001b[0m, in \u001b[0;36mravel_compat.<locals>.method\u001b[1;34m(self, *args, **kwargs)\u001b[0m\n\u001b[0;32m     77\u001b[0m \u001b[39m@wraps\u001b[39m(meth)\n\u001b[0;32m     78\u001b[0m \u001b[39mdef\u001b[39;00m \u001b[39mmethod\u001b[39m(\u001b[39mself\u001b[39m, \u001b[39m*\u001b[39margs, \u001b[39m*\u001b[39m\u001b[39m*\u001b[39mkwargs):\n\u001b[0;32m     79\u001b[0m     \u001b[39mif\u001b[39;00m \u001b[39mself\u001b[39m\u001b[39m.\u001b[39mndim \u001b[39m==\u001b[39m \u001b[39m1\u001b[39m:\n\u001b[1;32m---> 80\u001b[0m         \u001b[39mreturn\u001b[39;00m meth(\u001b[39mself\u001b[39;49m, \u001b[39m*\u001b[39;49margs, \u001b[39m*\u001b[39;49m\u001b[39m*\u001b[39;49mkwargs)\n\u001b[0;32m     82\u001b[0m     flags \u001b[39m=\u001b[39m \u001b[39mself\u001b[39m\u001b[39m.\u001b[39m_ndarray\u001b[39m.\u001b[39mflags\n\u001b[0;32m     83\u001b[0m     flat \u001b[39m=\u001b[39m \u001b[39mself\u001b[39m\u001b[39m.\u001b[39mravel(\u001b[39m\"\u001b[39m\u001b[39mK\u001b[39m\u001b[39m\"\u001b[39m)\n",
      "File \u001b[1;32m~\\AppData\\Local\\Packages\\PythonSoftwareFoundation.Python.3.11_qbz5n2kfra8p0\\LocalCache\\local-packages\\Python311\\site-packages\\pandas\\core\\arrays\\datetimelike.py:723\u001b[0m, in \u001b[0;36mDatetimeLikeArrayMixin.map\u001b[1;34m(self, mapper, na_action)\u001b[0m\n\u001b[0;32m    719\u001b[0m \u001b[39m@ravel_compat\u001b[39m\n\u001b[0;32m    720\u001b[0m \u001b[39mdef\u001b[39;00m \u001b[39mmap\u001b[39m(\u001b[39mself\u001b[39m, mapper, na_action\u001b[39m=\u001b[39m\u001b[39mNone\u001b[39;00m):\n\u001b[0;32m    721\u001b[0m     \u001b[39mfrom\u001b[39;00m \u001b[39mpandas\u001b[39;00m \u001b[39mimport\u001b[39;00m Index\n\u001b[1;32m--> 723\u001b[0m     result \u001b[39m=\u001b[39m map_array(\u001b[39mself\u001b[39;49m, mapper, na_action\u001b[39m=\u001b[39;49mna_action)\n\u001b[0;32m    724\u001b[0m     result \u001b[39m=\u001b[39m Index(result)\n\u001b[0;32m    726\u001b[0m     \u001b[39mif\u001b[39;00m \u001b[39misinstance\u001b[39m(result, ABCMultiIndex):\n",
      "File \u001b[1;32m~\\AppData\\Local\\Packages\\PythonSoftwareFoundation.Python.3.11_qbz5n2kfra8p0\\LocalCache\\local-packages\\Python311\\site-packages\\pandas\\core\\algorithms.py:1814\u001b[0m, in \u001b[0;36mmap_array\u001b[1;34m(arr, mapper, na_action, convert)\u001b[0m\n\u001b[0;32m   1812\u001b[0m values \u001b[39m=\u001b[39m arr\u001b[39m.\u001b[39mastype(\u001b[39mobject\u001b[39m, copy\u001b[39m=\u001b[39m\u001b[39mFalse\u001b[39;00m)\n\u001b[0;32m   1813\u001b[0m \u001b[39mif\u001b[39;00m na_action \u001b[39mis\u001b[39;00m \u001b[39mNone\u001b[39;00m:\n\u001b[1;32m-> 1814\u001b[0m     \u001b[39mreturn\u001b[39;00m lib\u001b[39m.\u001b[39;49mmap_infer(values, mapper, convert\u001b[39m=\u001b[39;49mconvert)\n\u001b[0;32m   1815\u001b[0m \u001b[39melse\u001b[39;00m:\n\u001b[0;32m   1816\u001b[0m     \u001b[39mreturn\u001b[39;00m lib\u001b[39m.\u001b[39mmap_infer_mask(\n\u001b[0;32m   1817\u001b[0m         values, mapper, mask\u001b[39m=\u001b[39misna(values)\u001b[39m.\u001b[39mview(np\u001b[39m.\u001b[39muint8), convert\u001b[39m=\u001b[39mconvert\n\u001b[0;32m   1818\u001b[0m     )\n",
      "File \u001b[1;32mlib.pyx:2920\u001b[0m, in \u001b[0;36mpandas._libs.lib.map_infer\u001b[1;34m()\u001b[0m\n",
      "\u001b[1;32mc:\\Users\\selen\\OneDrive\\Área de Trabalho\\case-impulso-gov\\impulso-gov-analise.ipynb Cell 14\u001b[0m line \u001b[0;36m1\n\u001b[1;32m----> <a href='vscode-notebook-cell:/c%3A/Users/selen/OneDrive/%C3%81rea%20de%20Trabalho/case-impulso-gov/impulso-gov-analise.ipynb#X32sZmlsZQ%3D%3D?line=0'>1</a>\u001b[0m usuarios[\u001b[39m'\u001b[39m\u001b[39mtipo_usuario\u001b[39m\u001b[39m'\u001b[39m] \u001b[39m=\u001b[39m usuarios[\u001b[39m'\u001b[39m\u001b[39mcriacao_data\u001b[39m\u001b[39m'\u001b[39m]\u001b[39m.\u001b[39mapply(\u001b[39mlambda\u001b[39;00m x: \u001b[39m'\u001b[39m\u001b[39mnovo\u001b[39m\u001b[39m'\u001b[39m \u001b[39mif\u001b[39;00m x \u001b[39m>\u001b[39;49m \u001b[39m'\u001b[39;49m\u001b[39m2023-01-01\u001b[39;49m\u001b[39m'\u001b[39;49m \u001b[39melse\u001b[39;00m \u001b[39m'\u001b[39m\u001b[39mantigo\u001b[39m\u001b[39m'\u001b[39m)\n\u001b[0;32m      <a href='vscode-notebook-cell:/c%3A/Users/selen/OneDrive/%C3%81rea%20de%20Trabalho/case-impulso-gov/impulso-gov-analise.ipynb#X32sZmlsZQ%3D%3D?line=3'>4</a>\u001b[0m \u001b[39m# Como não foi explicíto de forma clara oque se classificaria como um usuário antigo ou um novo usuário, foi definido a data de 01-01-2023 como marco para definição de usuários novos e antigos\u001b[39;00m\n",
      "\u001b[1;31mTypeError\u001b[0m: '>' not supported between instances of 'Timestamp' and 'str'"
     ]
    }
   ],
   "source": [
    "usuarios['tipo_usuario'] = usuarios['criacao_data'].apply(lambda x: 'novo' if x > '2023-01-01' else 'antigo')\n",
    "\n",
    "\n",
    "# Como não foi explicíto de forma clara oque se classificaria como um usuário antigo ou um novo usuário, foi definido a data de 01-01-2023 como marco para definição de usuários novos e antigos"
   ]
  },
  {
   "cell_type": "code",
   "execution_count": 46,
   "id": "2dc47b7d",
   "metadata": {},
   "outputs": [],
   "source": [
    "dados_completos = pd.merge(eventos, usuarios, left_on='usuario_id', right_on='id_usuario')"
   ]
  },
  {
   "cell_type": "code",
   "execution_count": 47,
   "id": "8a413b0b",
   "metadata": {},
   "outputs": [
    {
     "name": "stdout",
     "output_type": "stream",
     "text": [
      "Index(['sessao_id', 'periodo_data_hora', 'usuario_id', 'pagina_url', 'eventos',\n",
      "       'sessao_duracao', 'id_usuario', 'municipio', 'cargo', 'criacao_data',\n",
      "       'tipo_usuario'],\n",
      "      dtype='object')\n"
     ]
    }
   ],
   "source": [
    "print(dados_completos.columns)"
   ]
  },
  {
   "cell_type": "code",
   "execution_count": 49,
   "id": "159b32e8",
   "metadata": {},
   "outputs": [
    {
     "data": {
      "text/html": [
       "<div>\n",
       "<style scoped>\n",
       "    .dataframe tbody tr th:only-of-type {\n",
       "        vertical-align: middle;\n",
       "    }\n",
       "\n",
       "    .dataframe tbody tr th {\n",
       "        vertical-align: top;\n",
       "    }\n",
       "\n",
       "    .dataframe thead th {\n",
       "        text-align: right;\n",
       "    }\n",
       "</style>\n",
       "<table border=\"1\" class=\"dataframe\">\n",
       "  <thead>\n",
       "    <tr style=\"text-align: right;\">\n",
       "      <th></th>\n",
       "      <th>sessao_id</th>\n",
       "      <th>periodo_data_hora</th>\n",
       "      <th>usuario_id</th>\n",
       "      <th>pagina_url</th>\n",
       "      <th>eventos</th>\n",
       "      <th>sessao_duracao</th>\n",
       "      <th>id_usuario</th>\n",
       "      <th>municipio</th>\n",
       "      <th>cargo</th>\n",
       "      <th>criacao_data</th>\n",
       "      <th>tipo_usuario</th>\n",
       "    </tr>\n",
       "  </thead>\n",
       "  <tbody>\n",
       "    <tr>\n",
       "      <th>0</th>\n",
       "      <td>23098510-87ea-49af-8514-d2a7b0eac241</td>\n",
       "      <td>2023073123</td>\n",
       "      <td>3c709728-4613-40aa-ad5a-9baf5f5b2eb2</td>\n",
       "      <td>/inicio</td>\n",
       "      <td>2</td>\n",
       "      <td>0.0</td>\n",
       "      <td>3c709728-4613-40aa-ad5a-9baf5f5b2eb2</td>\n",
       "      <td>Boa Vista - PB</td>\n",
       "      <td>Coordenação de Equipe</td>\n",
       "      <td>2023-03-03</td>\n",
       "      <td>novo</td>\n",
       "    </tr>\n",
       "    <tr>\n",
       "      <th>1</th>\n",
       "      <td>08410890-9a51-4aa5-bc7c-2f1b97444695</td>\n",
       "      <td>2023073123</td>\n",
       "      <td>3c709728-4613-40aa-ad5a-9baf5f5b2eb2</td>\n",
       "      <td>/inicio</td>\n",
       "      <td>2</td>\n",
       "      <td>11.0</td>\n",
       "      <td>3c709728-4613-40aa-ad5a-9baf5f5b2eb2</td>\n",
       "      <td>Boa Vista - PB</td>\n",
       "      <td>Coordenação de Equipe</td>\n",
       "      <td>2023-03-03</td>\n",
       "      <td>novo</td>\n",
       "    </tr>\n",
       "    <tr>\n",
       "      <th>2</th>\n",
       "      <td>cf1f319e-c570-4126-8fed-887689e92f9b</td>\n",
       "      <td>2023073123</td>\n",
       "      <td>3c709728-4613-40aa-ad5a-9baf5f5b2eb2</td>\n",
       "      <td>/lista_nominal_hipertensos</td>\n",
       "      <td>18</td>\n",
       "      <td>754.0</td>\n",
       "      <td>3c709728-4613-40aa-ad5a-9baf5f5b2eb2</td>\n",
       "      <td>Boa Vista - PB</td>\n",
       "      <td>Coordenação de Equipe</td>\n",
       "      <td>2023-03-03</td>\n",
       "      <td>novo</td>\n",
       "    </tr>\n",
       "    <tr>\n",
       "      <th>3</th>\n",
       "      <td>f114572a-9d01-42f7-81bb-0ddbb025e2bc</td>\n",
       "      <td>2023073123</td>\n",
       "      <td>3c709728-4613-40aa-ad5a-9baf5f5b2eb2</td>\n",
       "      <td>/lista_nominal_diabeticos</td>\n",
       "      <td>2</td>\n",
       "      <td>0.0</td>\n",
       "      <td>3c709728-4613-40aa-ad5a-9baf5f5b2eb2</td>\n",
       "      <td>Boa Vista - PB</td>\n",
       "      <td>Coordenação de Equipe</td>\n",
       "      <td>2023-03-03</td>\n",
       "      <td>novo</td>\n",
       "    </tr>\n",
       "    <tr>\n",
       "      <th>4</th>\n",
       "      <td>16df6222-89d5-4887-b82e-1b4938e47b51</td>\n",
       "      <td>2023073123</td>\n",
       "      <td>3c709728-4613-40aa-ad5a-9baf5f5b2eb2</td>\n",
       "      <td>/lista_nominal_diabeticos</td>\n",
       "      <td>6</td>\n",
       "      <td>121.0</td>\n",
       "      <td>3c709728-4613-40aa-ad5a-9baf5f5b2eb2</td>\n",
       "      <td>Boa Vista - PB</td>\n",
       "      <td>Coordenação de Equipe</td>\n",
       "      <td>2023-03-03</td>\n",
       "      <td>novo</td>\n",
       "    </tr>\n",
       "  </tbody>\n",
       "</table>\n",
       "</div>"
      ],
      "text/plain": [
       "                              sessao_id  periodo_data_hora  \\\n",
       "0  23098510-87ea-49af-8514-d2a7b0eac241         2023073123   \n",
       "1  08410890-9a51-4aa5-bc7c-2f1b97444695         2023073123   \n",
       "2  cf1f319e-c570-4126-8fed-887689e92f9b         2023073123   \n",
       "3  f114572a-9d01-42f7-81bb-0ddbb025e2bc         2023073123   \n",
       "4  16df6222-89d5-4887-b82e-1b4938e47b51         2023073123   \n",
       "\n",
       "                             usuario_id                  pagina_url  eventos  \\\n",
       "0  3c709728-4613-40aa-ad5a-9baf5f5b2eb2                     /inicio        2   \n",
       "1  3c709728-4613-40aa-ad5a-9baf5f5b2eb2                     /inicio        2   \n",
       "2  3c709728-4613-40aa-ad5a-9baf5f5b2eb2  /lista_nominal_hipertensos       18   \n",
       "3  3c709728-4613-40aa-ad5a-9baf5f5b2eb2   /lista_nominal_diabeticos        2   \n",
       "4  3c709728-4613-40aa-ad5a-9baf5f5b2eb2   /lista_nominal_diabeticos        6   \n",
       "\n",
       "   sessao_duracao                            id_usuario       municipio  \\\n",
       "0             0.0  3c709728-4613-40aa-ad5a-9baf5f5b2eb2  Boa Vista - PB   \n",
       "1            11.0  3c709728-4613-40aa-ad5a-9baf5f5b2eb2  Boa Vista - PB   \n",
       "2           754.0  3c709728-4613-40aa-ad5a-9baf5f5b2eb2  Boa Vista - PB   \n",
       "3             0.0  3c709728-4613-40aa-ad5a-9baf5f5b2eb2  Boa Vista - PB   \n",
       "4           121.0  3c709728-4613-40aa-ad5a-9baf5f5b2eb2  Boa Vista - PB   \n",
       "\n",
       "                   cargo criacao_data tipo_usuario  \n",
       "0  Coordenação de Equipe   2023-03-03         novo  \n",
       "1  Coordenação de Equipe   2023-03-03         novo  \n",
       "2  Coordenação de Equipe   2023-03-03         novo  \n",
       "3  Coordenação de Equipe   2023-03-03         novo  \n",
       "4  Coordenação de Equipe   2023-03-03         novo  "
      ]
     },
     "execution_count": 49,
     "metadata": {},
     "output_type": "execute_result"
    }
   ],
   "source": [
    "dados_completos.head()"
   ]
  },
  {
   "cell_type": "code",
   "execution_count": 12,
   "id": "9986bd3f",
   "metadata": {},
   "outputs": [
    {
     "name": "stdout",
     "output_type": "stream",
     "text": [
      "   criacao_data  Quantidade_Criados\n",
      "0    2022-10-26                   2\n",
      "1    2022-11-08                  11\n",
      "2    2022-11-10                  32\n",
      "3    2022-11-22                  25\n",
      "4    2022-11-23                  22\n",
      "5    2022-11-25                   1\n",
      "6    2022-12-07                  23\n",
      "7    2022-12-08                   7\n",
      "8    2022-12-20                   3\n",
      "9    2023-02-08                  10\n",
      "10   2023-02-09                   6\n",
      "11   2023-02-17                   6\n",
      "12   2023-03-03                  25\n",
      "13   2023-03-06                  35\n",
      "14   2023-03-09                   3\n",
      "15   2023-03-14                   1\n",
      "16   2023-03-16                  84\n",
      "17   2023-03-22                   4\n",
      "18   2023-03-23                   1\n",
      "19   2023-03-28                   1\n",
      "20   2023-04-04                  42\n",
      "21   2023-04-12                   3\n",
      "22   2023-04-24                  34\n",
      "23   2023-04-25                   1\n",
      "24   2023-04-28                   6\n",
      "25   2023-05-09                  44\n",
      "26   2023-05-10                   3\n",
      "27   2023-05-12                   3\n",
      "28   2023-05-16                   1\n",
      "29   2023-05-22                   1\n",
      "30   2023-05-25                   5\n",
      "31   2023-06-05                  27\n",
      "32   2023-06-06                   4\n",
      "33   2023-06-20                   1\n",
      "34   2023-06-21                   2\n",
      "35   2023-06-22                   2\n",
      "36   2023-06-23                   1\n",
      "37   2023-06-30                   6\n"
     ]
    }
   ],
   "source": [
    "usuarios_por_data = usuarios.groupby(usuarios['criacao_data'].dt.date).size().reset_index(name='Quantidade_Criados')\n",
    "print(usuarios_por_data)"
   ]
  },
  {
   "cell_type": "code",
   "execution_count": 50,
   "id": "541705fe",
   "metadata": {},
   "outputs": [
    {
     "data": {
      "image/png": "[encoded data removed]",
      "text/plain": [
       "<Figure size 640x480 with 1 Axes>"
      ]
     },
     "metadata": {},
     "output_type": "display_data"
    }
   ],
   "source": [
    "atividade = dados_completos.groupby('tipo_usuario')['eventos'].count()\n",
    "atividade.plot(kind='bar')\n",
    "plt.title('Comparação da Atividade entre Usuários Antigos e Novos')\n",
    "plt.xlabel('Tipo de Usuário')\n",
    "plt.ylabel('Número de Eventos')\n",
    "plt.show()"
   ]
  },
  {
   "cell_type": "code",
   "execution_count": null,
   "id": "02984f8f",
   "metadata": {},
   "outputs": [],
   "source": []
  },
  {
   "cell_type": "code",
   "execution_count": null,
   "id": "b0a68acd",
   "metadata": {},
   "outputs": [],
   "source": []
  },
  {
   "cell_type": "code",
   "execution_count": null,
   "id": "5c8361b5",
   "metadata": {},
   "outputs": [],
   "source": []
  }
 ],
 "metadata": {
  "kernelspec": {
   "display_name": "Python 3 (ipykernel)",
   "language": "python",
   "name": "python3"
  },
  "language_info": {
   "codemirror_mode": {
    "name": "ipython",
    "version": 3
   },
   "file_extension": ".py",
   "mimetype": "text/x-python",
   "name": "python",
   "nbconvert_exporter": "python",
   "pygments_lexer": "ipython3",
   "version": "3.11.6"
  }
 },
 "nbformat": 4,
 "nbformat_minor": 5
}
